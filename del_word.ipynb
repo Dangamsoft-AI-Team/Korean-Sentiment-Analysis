{
  "nbformat": 4,
  "nbformat_minor": 0,
  "metadata": {
    "colab": {
      "name": "del_word.ipynb",
      "provenance": [],
      "collapsed_sections": []
    },
    "kernelspec": {
      "display_name": "Python 3",
      "language": "python",
      "name": "python3"
    },
    "language_info": {
      "codemirror_mode": {
        "name": "ipython",
        "version": 3
      },
      "file_extension": ".py",
      "mimetype": "text/x-python",
      "name": "python",
      "nbconvert_exporter": "python",
      "pygments_lexer": "ipython3",
      "version": "3.7.3"
    }
  },
  "cells": [
    {
      "cell_type": "code",
      "metadata": {
        "id": "baS0lOejtaxT"
      },
      "source": [
        "%matplotlib inline"
      ],
      "execution_count": null,
      "outputs": []
    },
    {
      "cell_type": "code",
      "metadata": {
        "colab": {
          "base_uri": "https://localhost:8080/"
        },
        "id": "7tZkP2rutt1O",
        "outputId": "82b1e182-6faf-43dd-f5d0-199a7296e31c"
      },
      "source": [
        "# !pip uninstall transformers\r\n",
        "!pip install transformers==3.5"
      ],
      "execution_count": null,
      "outputs": [
        {
          "output_type": "stream",
          "text": [
            "Requirement already satisfied: transformers==3.5 in /usr/local/lib/python3.6/dist-packages (3.5.0)\n",
            "Requirement already satisfied: tqdm>=4.27 in /usr/local/lib/python3.6/dist-packages (from transformers==3.5) (4.41.1)\n",
            "Requirement already satisfied: requests in /usr/local/lib/python3.6/dist-packages (from transformers==3.5) (2.23.0)\n",
            "Requirement already satisfied: sentencepiece==0.1.91 in /usr/local/lib/python3.6/dist-packages (from transformers==3.5) (0.1.91)\n",
            "Requirement already satisfied: regex!=2019.12.17 in /usr/local/lib/python3.6/dist-packages (from transformers==3.5) (2019.12.20)\n",
            "Requirement already satisfied: sacremoses in /usr/local/lib/python3.6/dist-packages (from transformers==3.5) (0.0.43)\n",
            "Requirement already satisfied: filelock in /usr/local/lib/python3.6/dist-packages (from transformers==3.5) (3.0.12)\n",
            "Requirement already satisfied: numpy in /usr/local/lib/python3.6/dist-packages (from transformers==3.5) (1.19.5)\n",
            "Requirement already satisfied: tokenizers==0.9.3 in /usr/local/lib/python3.6/dist-packages (from transformers==3.5) (0.9.3)\n",
            "Requirement already satisfied: dataclasses; python_version < \"3.7\" in /usr/local/lib/python3.6/dist-packages (from transformers==3.5) (0.8)\n",
            "Requirement already satisfied: protobuf in /usr/local/lib/python3.6/dist-packages (from transformers==3.5) (3.12.4)\n",
            "Requirement already satisfied: packaging in /usr/local/lib/python3.6/dist-packages (from transformers==3.5) (20.9)\n",
            "Requirement already satisfied: certifi>=2017.4.17 in /usr/local/lib/python3.6/dist-packages (from requests->transformers==3.5) (2020.12.5)\n",
            "Requirement already satisfied: idna<3,>=2.5 in /usr/local/lib/python3.6/dist-packages (from requests->transformers==3.5) (2.10)\n",
            "Requirement already satisfied: urllib3!=1.25.0,!=1.25.1,<1.26,>=1.21.1 in /usr/local/lib/python3.6/dist-packages (from requests->transformers==3.5) (1.24.3)\n",
            "Requirement already satisfied: chardet<4,>=3.0.2 in /usr/local/lib/python3.6/dist-packages (from requests->transformers==3.5) (3.0.4)\n",
            "Requirement already satisfied: click in /usr/local/lib/python3.6/dist-packages (from sacremoses->transformers==3.5) (7.1.2)\n",
            "Requirement already satisfied: six in /usr/local/lib/python3.6/dist-packages (from sacremoses->transformers==3.5) (1.15.0)\n",
            "Requirement already satisfied: joblib in /usr/local/lib/python3.6/dist-packages (from sacremoses->transformers==3.5) (1.0.0)\n",
            "Requirement already satisfied: setuptools in /usr/local/lib/python3.6/dist-packages (from protobuf->transformers==3.5) (53.0.0)\n",
            "Requirement already satisfied: pyparsing>=2.0.2 in /usr/local/lib/python3.6/dist-packages (from packaging->transformers==3.5) (2.4.7)\n"
          ],
          "name": "stdout"
        }
      ]
    },
    {
      "cell_type": "code",
      "metadata": {
        "id": "vJPwpokJtaxZ"
      },
      "source": [
        "import logging\n",
        "import time\n",
        "from platform import python_version\n",
        "import random\n",
        "from tqdm import tqdm\n",
        "import re\n",
        "\n",
        "import matplotlib\n",
        "import matplotlib.pyplot as plt\n",
        "import numpy as np\n",
        "import pandas as pd\n",
        "import sklearn\n",
        "import torch\n",
        "import torch.nn as nn\n",
        "import torch.nn.functional as F\n",
        "import transformers\n",
        "from sklearn.metrics import roc_auc_score\n",
        "from torch.autograd import Variable"
      ],
      "execution_count": null,
      "outputs": []
    },
    {
      "cell_type": "code",
      "metadata": {
        "id": "gN48AzdNEUnX"
      },
      "source": [
        "random_seed = 42\r\n",
        "\r\n",
        "torch.manual_seed(random_seed)\r\n",
        "torch.cuda.manual_seed(random_seed)\r\n",
        "# torch.cuda.manual_seed_all(random_seed) # if use multi-GPU\r\n",
        "# torch.backends.cudnn.deterministic = True\r\n",
        "torch.backends.cudnn.benchmark = False\r\n",
        "np.random.seed(random_seed)\r\n",
        "random.seed(random_seed)"
      ],
      "execution_count": null,
      "outputs": []
    },
    {
      "cell_type": "code",
      "metadata": {
        "colab": {
          "base_uri": "https://localhost:8080/"
        },
        "id": "mZxwPGvGtaxa",
        "outputId": "03bd0d3e-2bce-4849-85ec-decfefdfa6d3"
      },
      "source": [
        "print(\"python version==%s\" % python_version())\n",
        "print(\"pandas==%s\" % pd.__version__)\n",
        "print(\"numpy==%s\" % np.__version__)\n",
        "print(\"torch==%s\" % torch.__version__)\n",
        "print(\"sklearn==%s\" % sklearn.__version__)\n",
        "print(\"transformers==%s\" % transformers.__version__)\n",
        "print(\"matplotlib==%s\" % matplotlib.__version__)"
      ],
      "execution_count": null,
      "outputs": [
        {
          "output_type": "stream",
          "text": [
            "python version==3.6.9\n",
            "pandas==1.1.5\n",
            "numpy==1.19.5\n",
            "torch==1.7.0+cu101\n",
            "sklearn==0.22.2.post1\n",
            "transformers==3.5.0\n",
            "matplotlib==3.2.2\n"
          ],
          "name": "stdout"
        }
      ]
    },
    {
      "cell_type": "code",
      "metadata": {
        "id": "SudIBKt5taxb"
      },
      "source": [
        "logging.getLogger(\"transformers.tokenization_utils\").setLevel(logging.ERROR)"
      ],
      "execution_count": null,
      "outputs": []
    },
    {
      "cell_type": "code",
      "metadata": {
        "id": "UtcSv5btyeMQ",
        "colab": {
          "base_uri": "https://localhost:8080/"
        },
        "outputId": "865eb5a8-dbde-4c9b-99f3-d84bd5342273"
      },
      "source": [
        "from google.colab import drive\n",
        "drive.mount('/content/drive')"
      ],
      "execution_count": null,
      "outputs": [
        {
          "output_type": "stream",
          "text": [
            "Drive already mounted at /content/drive; to attempt to forcibly remount, call drive.mount(\"/content/drive\", force_remount=True).\n"
          ],
          "name": "stdout"
        }
      ]
    },
    {
      "cell_type": "code",
      "metadata": {
        "id": "kM-sdDENtaxb",
        "colab": {
          "base_uri": "https://localhost:8080/"
        },
        "outputId": "a15a57f6-22d4-4a80-8004-c126c211b20c"
      },
      "source": [
        "# df = pd.read_csv('drive/MyDrive/train.csv')\n",
        "df = pd.read_csv('drive/MyDrive/reviews.csv')\n",
        "df.shape"
      ],
      "execution_count": null,
      "outputs": [
        {
          "output_type": "execute_result",
          "data": {
            "text/plain": [
              "(358957, 6)"
            ]
          },
          "metadata": {
            "tags": []
          },
          "execution_count": 8
        }
      ]
    },
    {
      "cell_type": "code",
      "metadata": {
        "colab": {
          "base_uri": "https://localhost:8080/",
          "height": 195
        },
        "id": "OQgX0sUPIGk_",
        "outputId": "cc3aa69c-29ab-41e0-ff3b-4236922cb660"
      },
      "source": [
        "df.head()"
      ],
      "execution_count": null,
      "outputs": [
        {
          "output_type": "execute_result",
          "data": {
            "text/html": [
              "<div>\n",
              "<style scoped>\n",
              "    .dataframe tbody tr th:only-of-type {\n",
              "        vertical-align: middle;\n",
              "    }\n",
              "\n",
              "    .dataframe tbody tr th {\n",
              "        vertical-align: top;\n",
              "    }\n",
              "\n",
              "    .dataframe thead th {\n",
              "        text-align: right;\n",
              "    }\n",
              "</style>\n",
              "<table border=\"1\" class=\"dataframe\">\n",
              "  <thead>\n",
              "    <tr style=\"text-align: right;\">\n",
              "      <th></th>\n",
              "      <th>user_id</th>\n",
              "      <th>prod_id</th>\n",
              "      <th>rating</th>\n",
              "      <th>label</th>\n",
              "      <th>date</th>\n",
              "      <th>review</th>\n",
              "    </tr>\n",
              "  </thead>\n",
              "  <tbody>\n",
              "    <tr>\n",
              "      <th>0</th>\n",
              "      <td>923</td>\n",
              "      <td>0</td>\n",
              "      <td>3.0</td>\n",
              "      <td>-1</td>\n",
              "      <td>2014-12-08</td>\n",
              "      <td>The food at snack is a selection of popular Gr...</td>\n",
              "    </tr>\n",
              "    <tr>\n",
              "      <th>1</th>\n",
              "      <td>924</td>\n",
              "      <td>0</td>\n",
              "      <td>3.0</td>\n",
              "      <td>-1</td>\n",
              "      <td>2013-05-16</td>\n",
              "      <td>This little place in Soho is wonderful. I had ...</td>\n",
              "    </tr>\n",
              "    <tr>\n",
              "      <th>2</th>\n",
              "      <td>925</td>\n",
              "      <td>0</td>\n",
              "      <td>4.0</td>\n",
              "      <td>-1</td>\n",
              "      <td>2013-07-01</td>\n",
              "      <td>ordered lunch for 15 from Snack last Friday.  ...</td>\n",
              "    </tr>\n",
              "    <tr>\n",
              "      <th>3</th>\n",
              "      <td>926</td>\n",
              "      <td>0</td>\n",
              "      <td>4.0</td>\n",
              "      <td>-1</td>\n",
              "      <td>2011-07-28</td>\n",
              "      <td>This is a beautiful quaint little restaurant o...</td>\n",
              "    </tr>\n",
              "    <tr>\n",
              "      <th>4</th>\n",
              "      <td>927</td>\n",
              "      <td>0</td>\n",
              "      <td>4.0</td>\n",
              "      <td>-1</td>\n",
              "      <td>2010-11-01</td>\n",
              "      <td>Snack is great place for a  casual sit down lu...</td>\n",
              "    </tr>\n",
              "  </tbody>\n",
              "</table>\n",
              "</div>"
            ],
            "text/plain": [
              "   user_id  ...                                             review\n",
              "0      923  ...  The food at snack is a selection of popular Gr...\n",
              "1      924  ...  This little place in Soho is wonderful. I had ...\n",
              "2      925  ...  ordered lunch for 15 from Snack last Friday.  ...\n",
              "3      926  ...  This is a beautiful quaint little restaurant o...\n",
              "4      927  ...  Snack is great place for a  casual sit down lu...\n",
              "\n",
              "[5 rows x 6 columns]"
            ]
          },
          "metadata": {
            "tags": []
          },
          "execution_count": 9
        }
      ]
    },
    {
      "cell_type": "code",
      "metadata": {
        "id": "gew4_Y2S5oeb"
      },
      "source": [
        "def make_id_dict(df):\r\n",
        "    user_id_dict = {}\r\n",
        "    prod_id_dict = {}\r\n",
        "\r\n",
        "    for idx in tqdm(range(df.shape[0])):\r\n",
        "        if df.user_id[idx] in user_id_dict:\r\n",
        "            user_id_dict[df.user_id[idx]] += 1\r\n",
        "        else:\r\n",
        "            user_id_dict[df.user_id[idx]] = 1\r\n",
        "\r\n",
        "        if df.prod_id[idx] in prod_id_dict:\r\n",
        "            prod_id_dict[df.prod_id[idx]] += 1        \r\n",
        "        else:\r\n",
        "            prod_id_dict[df.prod_id[idx]] = 1\r\n",
        "        \r\n",
        "    return user_id_dict, prod_id_dict"
      ],
      "execution_count": null,
      "outputs": []
    },
    {
      "cell_type": "code",
      "metadata": {
        "colab": {
          "base_uri": "https://localhost:8080/"
        },
        "id": "Ti31JDtF6jYP",
        "outputId": "25b6e6fc-fa44-4cf8-f569-657fde3d082c"
      },
      "source": [
        "user_id_dict, prod_id_dict = make_id_dict(df)"
      ],
      "execution_count": null,
      "outputs": [
        {
          "output_type": "stream",
          "text": [
            "100%|██████████| 358957/358957 [00:13<00:00, 26099.72it/s]\n"
          ],
          "name": "stderr"
        }
      ]
    },
    {
      "cell_type": "code",
      "metadata": {
        "colab": {
          "base_uri": "https://localhost:8080/"
        },
        "id": "JVQ1mn9A6wCb",
        "outputId": "a0f6e6de-f120-4449-d422-f1145f5c70c7"
      },
      "source": [
        "user_id_count = []\r\n",
        "prod_id_count = []\r\n",
        "\r\n",
        "for idx in tqdm(range(df.shape[0])):\r\n",
        "    user_id_count.append(user_id_dict[df.user_id[idx]])\r\n",
        "    prod_id_count.append(prod_id_dict[df.prod_id[idx]])"
      ],
      "execution_count": null,
      "outputs": [
        {
          "output_type": "stream",
          "text": [
            "100%|██████████| 358957/358957 [00:07<00:00, 51204.27it/s]\n"
          ],
          "name": "stderr"
        }
      ]
    },
    {
      "cell_type": "code",
      "metadata": {
        "id": "N9dEMou_75p3"
      },
      "source": [
        "df['user_id_count'] = user_id_count\r\n",
        "df['prod_id_count'] = prod_id_count"
      ],
      "execution_count": null,
      "outputs": []
    },
    {
      "cell_type": "code",
      "metadata": {
        "colab": {
          "base_uri": "https://localhost:8080/",
          "height": 195
        },
        "id": "gHC86nCO8Al0",
        "outputId": "846a03fb-535f-4631-932f-06560ee3bca7"
      },
      "source": [
        "df.head()"
      ],
      "execution_count": null,
      "outputs": [
        {
          "output_type": "execute_result",
          "data": {
            "text/html": [
              "<div>\n",
              "<style scoped>\n",
              "    .dataframe tbody tr th:only-of-type {\n",
              "        vertical-align: middle;\n",
              "    }\n",
              "\n",
              "    .dataframe tbody tr th {\n",
              "        vertical-align: top;\n",
              "    }\n",
              "\n",
              "    .dataframe thead th {\n",
              "        text-align: right;\n",
              "    }\n",
              "</style>\n",
              "<table border=\"1\" class=\"dataframe\">\n",
              "  <thead>\n",
              "    <tr style=\"text-align: right;\">\n",
              "      <th></th>\n",
              "      <th>user_id</th>\n",
              "      <th>prod_id</th>\n",
              "      <th>rating</th>\n",
              "      <th>label</th>\n",
              "      <th>date</th>\n",
              "      <th>review</th>\n",
              "      <th>user_id_count</th>\n",
              "      <th>prod_id_count</th>\n",
              "    </tr>\n",
              "  </thead>\n",
              "  <tbody>\n",
              "    <tr>\n",
              "      <th>0</th>\n",
              "      <td>923</td>\n",
              "      <td>0</td>\n",
              "      <td>3.0</td>\n",
              "      <td>-1</td>\n",
              "      <td>2014-12-08</td>\n",
              "      <td>The food at snack is a selection of popular Gr...</td>\n",
              "      <td>39</td>\n",
              "      <td>210</td>\n",
              "    </tr>\n",
              "    <tr>\n",
              "      <th>1</th>\n",
              "      <td>924</td>\n",
              "      <td>0</td>\n",
              "      <td>3.0</td>\n",
              "      <td>-1</td>\n",
              "      <td>2013-05-16</td>\n",
              "      <td>This little place in Soho is wonderful. I had ...</td>\n",
              "      <td>1</td>\n",
              "      <td>210</td>\n",
              "    </tr>\n",
              "    <tr>\n",
              "      <th>2</th>\n",
              "      <td>925</td>\n",
              "      <td>0</td>\n",
              "      <td>4.0</td>\n",
              "      <td>-1</td>\n",
              "      <td>2013-07-01</td>\n",
              "      <td>ordered lunch for 15 from Snack last Friday.  ...</td>\n",
              "      <td>2</td>\n",
              "      <td>210</td>\n",
              "    </tr>\n",
              "    <tr>\n",
              "      <th>3</th>\n",
              "      <td>926</td>\n",
              "      <td>0</td>\n",
              "      <td>4.0</td>\n",
              "      <td>-1</td>\n",
              "      <td>2011-07-28</td>\n",
              "      <td>This is a beautiful quaint little restaurant o...</td>\n",
              "      <td>1</td>\n",
              "      <td>210</td>\n",
              "    </tr>\n",
              "    <tr>\n",
              "      <th>4</th>\n",
              "      <td>927</td>\n",
              "      <td>0</td>\n",
              "      <td>4.0</td>\n",
              "      <td>-1</td>\n",
              "      <td>2010-11-01</td>\n",
              "      <td>Snack is great place for a  casual sit down lu...</td>\n",
              "      <td>5</td>\n",
              "      <td>210</td>\n",
              "    </tr>\n",
              "  </tbody>\n",
              "</table>\n",
              "</div>"
            ],
            "text/plain": [
              "   user_id  prod_id  ...  user_id_count  prod_id_count\n",
              "0      923        0  ...             39            210\n",
              "1      924        0  ...              1            210\n",
              "2      925        0  ...              2            210\n",
              "3      926        0  ...              1            210\n",
              "4      927        0  ...              5            210\n",
              "\n",
              "[5 rows x 8 columns]"
            ]
          },
          "metadata": {
            "tags": []
          },
          "execution_count": 15
        }
      ]
    },
    {
      "cell_type": "code",
      "metadata": {
        "id": "pgLW0UveIft8"
      },
      "source": [
        "new_label_lst = []\r\n",
        "for ele in df.label:\r\n",
        "    if ele == -1:\r\n",
        "        new_label_lst.append(0)\r\n",
        "    else:\r\n",
        "        new_label_lst.append(1)"
      ],
      "execution_count": null,
      "outputs": []
    },
    {
      "cell_type": "code",
      "metadata": {
        "id": "JMdRUGKDIxdM"
      },
      "source": [
        "df.drop(['label'], axis=1)\r\n",
        "df['label'] = new_label_lst"
      ],
      "execution_count": null,
      "outputs": []
    },
    {
      "cell_type": "code",
      "metadata": {
        "colab": {
          "base_uri": "https://localhost:8080/",
          "height": 195
        },
        "id": "QnIMR5KNJNw6",
        "outputId": "aa2df277-eb83-4d55-a95c-16d7df9f09da"
      },
      "source": [
        "df.head()"
      ],
      "execution_count": null,
      "outputs": [
        {
          "output_type": "execute_result",
          "data": {
            "text/html": [
              "<div>\n",
              "<style scoped>\n",
              "    .dataframe tbody tr th:only-of-type {\n",
              "        vertical-align: middle;\n",
              "    }\n",
              "\n",
              "    .dataframe tbody tr th {\n",
              "        vertical-align: top;\n",
              "    }\n",
              "\n",
              "    .dataframe thead th {\n",
              "        text-align: right;\n",
              "    }\n",
              "</style>\n",
              "<table border=\"1\" class=\"dataframe\">\n",
              "  <thead>\n",
              "    <tr style=\"text-align: right;\">\n",
              "      <th></th>\n",
              "      <th>user_id</th>\n",
              "      <th>prod_id</th>\n",
              "      <th>rating</th>\n",
              "      <th>label</th>\n",
              "      <th>date</th>\n",
              "      <th>review</th>\n",
              "      <th>user_id_count</th>\n",
              "      <th>prod_id_count</th>\n",
              "    </tr>\n",
              "  </thead>\n",
              "  <tbody>\n",
              "    <tr>\n",
              "      <th>0</th>\n",
              "      <td>923</td>\n",
              "      <td>0</td>\n",
              "      <td>3.0</td>\n",
              "      <td>0</td>\n",
              "      <td>2014-12-08</td>\n",
              "      <td>The food at snack is a selection of popular Gr...</td>\n",
              "      <td>39</td>\n",
              "      <td>210</td>\n",
              "    </tr>\n",
              "    <tr>\n",
              "      <th>1</th>\n",
              "      <td>924</td>\n",
              "      <td>0</td>\n",
              "      <td>3.0</td>\n",
              "      <td>0</td>\n",
              "      <td>2013-05-16</td>\n",
              "      <td>This little place in Soho is wonderful. I had ...</td>\n",
              "      <td>1</td>\n",
              "      <td>210</td>\n",
              "    </tr>\n",
              "    <tr>\n",
              "      <th>2</th>\n",
              "      <td>925</td>\n",
              "      <td>0</td>\n",
              "      <td>4.0</td>\n",
              "      <td>0</td>\n",
              "      <td>2013-07-01</td>\n",
              "      <td>ordered lunch for 15 from Snack last Friday.  ...</td>\n",
              "      <td>2</td>\n",
              "      <td>210</td>\n",
              "    </tr>\n",
              "    <tr>\n",
              "      <th>3</th>\n",
              "      <td>926</td>\n",
              "      <td>0</td>\n",
              "      <td>4.0</td>\n",
              "      <td>0</td>\n",
              "      <td>2011-07-28</td>\n",
              "      <td>This is a beautiful quaint little restaurant o...</td>\n",
              "      <td>1</td>\n",
              "      <td>210</td>\n",
              "    </tr>\n",
              "    <tr>\n",
              "      <th>4</th>\n",
              "      <td>927</td>\n",
              "      <td>0</td>\n",
              "      <td>4.0</td>\n",
              "      <td>0</td>\n",
              "      <td>2010-11-01</td>\n",
              "      <td>Snack is great place for a  casual sit down lu...</td>\n",
              "      <td>5</td>\n",
              "      <td>210</td>\n",
              "    </tr>\n",
              "  </tbody>\n",
              "</table>\n",
              "</div>"
            ],
            "text/plain": [
              "   user_id  prod_id  ...  user_id_count  prod_id_count\n",
              "0      923        0  ...             39            210\n",
              "1      924        0  ...              1            210\n",
              "2      925        0  ...              2            210\n",
              "3      926        0  ...              1            210\n",
              "4      927        0  ...              5            210\n",
              "\n",
              "[5 rows x 8 columns]"
            ]
          },
          "metadata": {
            "tags": []
          },
          "execution_count": 18
        }
      ]
    },
    {
      "cell_type": "code",
      "metadata": {
        "id": "Hid6Pjketaxc"
      },
      "source": [
        "df = df.sample(frac=1)\n",
        "df = df.reset_index(drop=True)"
      ],
      "execution_count": null,
      "outputs": []
    },
    {
      "cell_type": "code",
      "metadata": {
        "id": "DT2FhyyJGeqe"
      },
      "source": [
        "df_train = df[:10000].reset_index(drop=True)\r\n",
        "df_val = df[10000:11000].reset_index(drop=True)\r\n",
        "df_test = df[11000:13000].reset_index(drop=True)"
      ],
      "execution_count": null,
      "outputs": []
    },
    {
      "cell_type": "code",
      "metadata": {
        "colab": {
          "base_uri": "https://localhost:8080/",
          "height": 195
        },
        "id": "H2jKqGCDG6VH",
        "outputId": "0bd90bf5-fc25-4145-afe4-7f3715dc1d66"
      },
      "source": [
        "df_train.head()"
      ],
      "execution_count": null,
      "outputs": [
        {
          "output_type": "execute_result",
          "data": {
            "text/html": [
              "<div>\n",
              "<style scoped>\n",
              "    .dataframe tbody tr th:only-of-type {\n",
              "        vertical-align: middle;\n",
              "    }\n",
              "\n",
              "    .dataframe tbody tr th {\n",
              "        vertical-align: top;\n",
              "    }\n",
              "\n",
              "    .dataframe thead th {\n",
              "        text-align: right;\n",
              "    }\n",
              "</style>\n",
              "<table border=\"1\" class=\"dataframe\">\n",
              "  <thead>\n",
              "    <tr style=\"text-align: right;\">\n",
              "      <th></th>\n",
              "      <th>user_id</th>\n",
              "      <th>prod_id</th>\n",
              "      <th>rating</th>\n",
              "      <th>label</th>\n",
              "      <th>date</th>\n",
              "      <th>review</th>\n",
              "      <th>user_id_count</th>\n",
              "      <th>prod_id_count</th>\n",
              "    </tr>\n",
              "  </thead>\n",
              "  <tbody>\n",
              "    <tr>\n",
              "      <th>0</th>\n",
              "      <td>58479</td>\n",
              "      <td>251</td>\n",
              "      <td>4.0</td>\n",
              "      <td>1</td>\n",
              "      <td>2010-05-01</td>\n",
              "      <td>Went on a Friday night at about 5:30 PM, it wa...</td>\n",
              "      <td>3</td>\n",
              "      <td>1834</td>\n",
              "    </tr>\n",
              "    <tr>\n",
              "      <th>1</th>\n",
              "      <td>39714</td>\n",
              "      <td>202</td>\n",
              "      <td>4.0</td>\n",
              "      <td>1</td>\n",
              "      <td>2014-10-26</td>\n",
              "      <td>Nice ambiance, very nice staff and good food. ...</td>\n",
              "      <td>2</td>\n",
              "      <td>683</td>\n",
              "    </tr>\n",
              "    <tr>\n",
              "      <th>2</th>\n",
              "      <td>101723</td>\n",
              "      <td>523</td>\n",
              "      <td>5.0</td>\n",
              "      <td>1</td>\n",
              "      <td>2013-11-17</td>\n",
              "      <td>we went to the city for a long weekend and rea...</td>\n",
              "      <td>1</td>\n",
              "      <td>414</td>\n",
              "    </tr>\n",
              "    <tr>\n",
              "      <th>3</th>\n",
              "      <td>33349</td>\n",
              "      <td>100</td>\n",
              "      <td>5.0</td>\n",
              "      <td>1</td>\n",
              "      <td>2010-07-12</td>\n",
              "      <td>Foods tasted: Walnut french toast Blueberry pa...</td>\n",
              "      <td>2</td>\n",
              "      <td>2677</td>\n",
              "    </tr>\n",
              "    <tr>\n",
              "      <th>4</th>\n",
              "      <td>23432</td>\n",
              "      <td>305</td>\n",
              "      <td>5.0</td>\n",
              "      <td>1</td>\n",
              "      <td>2014-12-16</td>\n",
              "      <td>LOVE the new space. It wasn't too overly packe...</td>\n",
              "      <td>14</td>\n",
              "      <td>203</td>\n",
              "    </tr>\n",
              "  </tbody>\n",
              "</table>\n",
              "</div>"
            ],
            "text/plain": [
              "   user_id  prod_id  ...  user_id_count  prod_id_count\n",
              "0    58479      251  ...              3           1834\n",
              "1    39714      202  ...              2            683\n",
              "2   101723      523  ...              1            414\n",
              "3    33349      100  ...              2           2677\n",
              "4    23432      305  ...             14            203\n",
              "\n",
              "[5 rows x 8 columns]"
            ]
          },
          "metadata": {
            "tags": []
          },
          "execution_count": 21
        }
      ]
    },
    {
      "cell_type": "code",
      "metadata": {
        "colab": {
          "base_uri": "https://localhost:8080/"
        },
        "id": "fRHdsL-sE3Wr",
        "outputId": "22a9d075-7784-4728-bafc-e21a6bd60e21"
      },
      "source": [
        "sentence = df_train.review[0].lower()\r\n",
        "print(sentence)\r\n",
        "sentence = re.sub('[\\d]+', 'NUMBER', sentence)\r\n",
        "sentence = re.sub('[^\\dA-Za-z\\s]+', '', sentence)\r\n",
        "sentence = re.sub('[NUMBER]+', 'NUMBER', sentence)\r\n",
        "print(sentence)\r\n",
        "\r\n",
        "# print(sentence.split())"
      ],
      "execution_count": null,
      "outputs": [
        {
          "output_type": "stream",
          "text": [
            "went on a friday night at about 5:30 pm, it was still early and plenty of seats were available.  its a very cool nondescript vibe in here, i liked it though.  for drinks i had the penicillin and the pomegranate sour, the former was tart and sweet. it was the better of the two.  husband had the pickle juice martini and that was really good. you really get like a nice mild pickle flavor as the drink finishes in your mouth. for food we just had a couple of appetizers: the hamachi with wasabi cream and soybeans and the pork buns.  both were delicious especially the pork buns.  i doused them with a liberal amount of sircacha and it did not make it incredibly spicy. it just added to the richness of the flavors.  very enjoyable cool place and i am looking forward to coming back here.\n",
            "went on a friday night at about NUMBER pm it was still early and plenty of seats were available  its a very cool nondescript vibe in here i liked it though  for drinks i had the penicillin and the pomegranate sour the former was tart and sweet it was the better of the two  husband had the pickle juice martini and that was really good you really get like a nice mild pickle flavor as the drink finishes in your mouth for food we just had a couple of appetizers the hamachi with wasabi cream and soybeans and the pork buns  both were delicious especially the pork buns  i doused them with a liberal amount of sircacha and it did not make it incredibly spicy it just added to the richness of the flavors  very enjoyable cool place and i am looking forward to coming back here\n"
          ],
          "name": "stdout"
        }
      ]
    },
    {
      "cell_type": "code",
      "metadata": {
        "id": "9AvpKoct-sH2"
      },
      "source": [
        "def make_word_dict(df):\r\n",
        "    real_review_dict = dict()\r\n",
        "    fake_review_dict = dict()\r\n",
        "\r\n",
        "    for i in tqdm(range(df.shape[0])):\r\n",
        "        # word_lst = df.review[i].lower().split()\r\n",
        "        \r\n",
        "        sentence = df.review[i].lower()\r\n",
        "        sentence = re.sub('[\\d]+', 'NUMBER', sentence)\r\n",
        "        sentence = re.sub('[^A-Za-z\\s]', '', sentence)\r\n",
        "        sentence = re.sub('[NUMBER]+', 'NUMBER', sentence)\r\n",
        "        word_lst = sentence.split()\r\n",
        "\r\n",
        "        if df.label[i] == 1:\r\n",
        "            for ele in word_lst:\r\n",
        "                if ele in real_review_dict:\r\n",
        "                    real_review_dict[ele] += 1\r\n",
        "                else:\r\n",
        "                    real_review_dict[ele] = 1\r\n",
        "\r\n",
        "        else:\r\n",
        "            for ele in word_lst:\r\n",
        "                if ele in fake_review_dict:\r\n",
        "                    fake_review_dict[ele] += 1\r\n",
        "                else:\r\n",
        "                    fake_review_dict[ele] = 1\r\n",
        "\r\n",
        "    return real_review_dict, fake_review_dict"
      ],
      "execution_count": null,
      "outputs": []
    },
    {
      "cell_type": "code",
      "metadata": {
        "colab": {
          "base_uri": "https://localhost:8080/"
        },
        "id": "g4inKH_uLytz",
        "outputId": "3e3049cc-b0d1-4cdf-95e5-fd95ba5b4536"
      },
      "source": [
        "real_review_dict, fake_review_dict = make_word_dict(df_train)"
      ],
      "execution_count": null,
      "outputs": [
        {
          "output_type": "stream",
          "text": [
            "100%|██████████| 10000/10000 [00:01<00:00, 9236.81it/s]\n"
          ],
          "name": "stderr"
        }
      ]
    },
    {
      "cell_type": "code",
      "metadata": {
        "id": "mnidia-XCKZf"
      },
      "source": [
        "def make_del_word_lst(threshold, fake_review_dict, real_review_dict):\r\n",
        "    del_word_lst = []\r\n",
        "    sum_real_review = sum(real_review_dict.values())\r\n",
        "    sum_fake_review = sum(fake_review_dict.values())\r\n",
        "\r\n",
        "    for ele in fake_review_dict:\r\n",
        "        if ele in real_review_dict:\r\n",
        "            real_cnt = real_review_dict[ele] / sum_real_review\r\n",
        "            fake_cnt = fake_review_dict[ele] / sum_fake_review\r\n",
        "\r\n",
        "            if real_cnt < fake_cnt:\r\n",
        "                real_cnt, fake_cnt = (fake_cnt, real_cnt)\r\n",
        "      \r\n",
        "            if (fake_cnt / real_cnt) >= threshold:\r\n",
        "                del_word_lst.append(ele)\r\n",
        "\r\n",
        "    return del_word_lst"
      ],
      "execution_count": null,
      "outputs": []
    },
    {
      "cell_type": "code",
      "metadata": {
        "id": "dXsuphARHO5L"
      },
      "source": [
        "del_word_lst = make_del_word_lst(threshold=0.9, fake_review_dict, real_review_dict)"
      ],
      "execution_count": null,
      "outputs": []
    },
    {
      "cell_type": "code",
      "metadata": {
        "colab": {
          "base_uri": "https://localhost:8080/"
        },
        "id": "TXsDtwVo079w",
        "outputId": "1c26a06b-a295-4d48-b600-8e2834f7d7f4"
      },
      "source": [
        "len(del_word_lst)"
      ],
      "execution_count": null,
      "outputs": [
        {
          "output_type": "execute_result",
          "data": {
            "text/plain": [
              "699"
            ]
          },
          "metadata": {
            "tags": []
          },
          "execution_count": 28
        }
      ]
    },
    {
      "cell_type": "code",
      "metadata": {
        "id": "-RFShlMUJXV2"
      },
      "source": [
        "def make_review_lst(df, del_word_lst):\r\n",
        "  new_review_lst = []\r\n",
        "  for sentence in tqdm(df.review):\r\n",
        "    sentence = sentence.lower()\r\n",
        "    \r\n",
        "    sentence = re.sub('[\\d]+', '<NUM>', sentence)\r\n",
        "    sentence = re.sub('[^A-Za-z\\s]', '', sentence)\r\n",
        "    sentence = re.sub('[<NUM>]+', '<NUM>', sentence)\r\n",
        "    new_review_lst.append(''.join(map(lambda x: x + ' ' if x not in del_word_lst else '', sentence.split())))\r\n",
        "    \r\n",
        "  return new_review_lst"
      ],
      "execution_count": null,
      "outputs": []
    },
    {
      "cell_type": "code",
      "metadata": {
        "colab": {
          "base_uri": "https://localhost:8080/"
        },
        "id": "jU91Gj47lIls",
        "outputId": "2b52d3bf-5005-48c8-b367-50c74ffb2cd1"
      },
      "source": [
        "train_review_lst = make_review_lst(df_train, del_word_lst)\r\n",
        "val_review_lst = make_review_lst(df_val, del_word_lst)\r\n",
        "test_review_lst = make_review_lst(df_test, del_word_lst)"
      ],
      "execution_count": null,
      "outputs": [
        {
          "output_type": "stream",
          "text": [
            "100%|██████████| 10000/10000 [00:08<00:00, 1243.48it/s]\n",
            "100%|██████████| 1000/1000 [00:00<00:00, 1273.03it/s]\n",
            "100%|██████████| 2000/2000 [00:01<00:00, 1241.26it/s]\n"
          ],
          "name": "stderr"
        }
      ]
    },
    {
      "cell_type": "code",
      "metadata": {
        "id": "9HymAUKJkO-n"
      },
      "source": [
        "# 필요 없다고 생각되는 col들 삭제\r\n",
        "df_train = df_train.drop(['user_id', 'prod_id', 'date', 'review'], axis=1)\r\n",
        "df_val = df_val.drop(['user_id', 'prod_id', 'date', 'review'], axis=1)\r\n",
        "df_test = df_test.drop(['user_id', 'prod_id', 'date', 'review'], axis=1)"
      ],
      "execution_count": null,
      "outputs": []
    },
    {
      "cell_type": "code",
      "metadata": {
        "id": "j8W05ikXlcA9"
      },
      "source": [
        "df_train['review'] = train_review_lst\r\n",
        "df_val['review'] = val_review_lst\r\n",
        "df_test['review'] = test_review_lst"
      ],
      "execution_count": null,
      "outputs": []
    },
    {
      "cell_type": "code",
      "metadata": {
        "colab": {
          "base_uri": "https://localhost:8080/",
          "height": 195
        },
        "id": "UEEdXDqDMBDH",
        "outputId": "f1b6e2c6-2238-4bfc-aa4a-0d14967c2502"
      },
      "source": [
        "df_train.head()"
      ],
      "execution_count": null,
      "outputs": [
        {
          "output_type": "execute_result",
          "data": {
            "text/html": [
              "<div>\n",
              "<style scoped>\n",
              "    .dataframe tbody tr th:only-of-type {\n",
              "        vertical-align: middle;\n",
              "    }\n",
              "\n",
              "    .dataframe tbody tr th {\n",
              "        vertical-align: top;\n",
              "    }\n",
              "\n",
              "    .dataframe thead th {\n",
              "        text-align: right;\n",
              "    }\n",
              "</style>\n",
              "<table border=\"1\" class=\"dataframe\">\n",
              "  <thead>\n",
              "    <tr style=\"text-align: right;\">\n",
              "      <th></th>\n",
              "      <th>rating</th>\n",
              "      <th>label</th>\n",
              "      <th>user_id_count</th>\n",
              "      <th>prod_id_count</th>\n",
              "      <th>review</th>\n",
              "    </tr>\n",
              "  </thead>\n",
              "  <tbody>\n",
              "    <tr>\n",
              "      <th>0</th>\n",
              "      <td>4.0</td>\n",
              "      <td>1</td>\n",
              "      <td>3</td>\n",
              "      <td>1834</td>\n",
              "      <td>went on friday night &lt;NUM&gt; pm plenty seats wer...</td>\n",
              "    </tr>\n",
              "    <tr>\n",
              "      <th>1</th>\n",
              "      <td>4.0</td>\n",
              "      <td>1</td>\n",
              "      <td>2</td>\n",
              "      <td>683</td>\n",
              "      <td>nice ambiance very nice staff food place to br...</td>\n",
              "    </tr>\n",
              "    <tr>\n",
              "      <th>2</th>\n",
              "      <td>5.0</td>\n",
              "      <td>1</td>\n",
              "      <td>1</td>\n",
              "      <td>414</td>\n",
              "      <td>went to city long weekend read place on yelp j...</td>\n",
              "    </tr>\n",
              "    <tr>\n",
              "      <th>3</th>\n",
              "      <td>5.0</td>\n",
              "      <td>1</td>\n",
              "      <td>2</td>\n",
              "      <td>2677</td>\n",
              "      <td>tasted walnut french toast blueberry pancakes ...</td>\n",
              "    </tr>\n",
              "    <tr>\n",
              "      <th>4</th>\n",
              "      <td>5.0</td>\n",
              "      <td>1</td>\n",
              "      <td>14</td>\n",
              "      <td>203</td>\n",
              "      <td>love new wasnt too overly when came weekly gri...</td>\n",
              "    </tr>\n",
              "  </tbody>\n",
              "</table>\n",
              "</div>"
            ],
            "text/plain": [
              "   rating  ...                                             review\n",
              "0     4.0  ...  went on friday night <NUM> pm plenty seats wer...\n",
              "1     4.0  ...  nice ambiance very nice staff food place to br...\n",
              "2     5.0  ...  went to city long weekend read place on yelp j...\n",
              "3     5.0  ...  tasted walnut french toast blueberry pancakes ...\n",
              "4     5.0  ...  love new wasnt too overly when came weekly gri...\n",
              "\n",
              "[5 rows x 5 columns]"
            ]
          },
          "metadata": {
            "tags": []
          },
          "execution_count": 32
        }
      ]
    },
    {
      "cell_type": "code",
      "metadata": {
        "colab": {
          "base_uri": "https://localhost:8080/",
          "height": 70
        },
        "id": "6212LVvutaxc",
        "outputId": "6bb4a6ad-5eab-4ccc-bde5-cbda7ef7ccb9"
      },
      "source": [
        "# df.comment_text[0]\r\n",
        "df_train.review[0]"
      ],
      "execution_count": null,
      "outputs": [
        {
          "output_type": "execute_result",
          "data": {
            "application/vnd.google.colaboratory.intrinsic+json": {
              "type": "string"
            },
            "text/plain": [
              "'went on friday night <NUM> pm plenty seats were its very cool nondescript vibe here liked though drinks penicillin pomegranate sour tart sweet husband pickle juice martini nice mild pickle flavor as drink finishes your mouth food just couple appetizers hamachi with wasabi cream soybeans pork buns were delicious especially pork buns doused with liberal sircacha did make spicy just added to richness flavors very enjoyable cool place am looking forward to coming back here '"
            ]
          },
          "metadata": {
            "tags": []
          },
          "execution_count": 33
        }
      ]
    }
  ]
}